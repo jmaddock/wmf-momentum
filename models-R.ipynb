{
 "cells": [
  {
   "cell_type": "code",
   "execution_count": 17,
   "id": "e68e9fe4-b07c-44ad-a7a7-d683339a5415",
   "metadata": {},
   "outputs": [
    {
     "data": {
      "text/plain": [
       "\n",
       "Call:\n",
       "lm(formula = num_new_accounts ~ num_pageviews + wiki_age + month, \n",
       "    data = data)\n",
       "\n",
       "Residuals:\n",
       "    Min      1Q  Median      3Q     Max \n",
       "-8052.8 -1855.7    54.1  1765.2  5716.9 \n",
       "\n",
       "Coefficients:\n",
       "                Estimate Std. Error t value Pr(>|t|)    \n",
       "(Intercept)    1.894e+04  4.487e+03   4.222 6.81e-05 ***\n",
       "num_pageviews  8.811e-06  6.214e-07  14.179  < 2e-16 ***\n",
       "wiki_age      -2.645e+02  1.363e+01 -19.408  < 2e-16 ***\n",
       "month2         2.296e+03  1.776e+03   1.293 0.200071    \n",
       "month3         2.872e+03  1.732e+03   1.658 0.101455    \n",
       "month4        -3.311e+02  1.739e+03  -0.190 0.849535    \n",
       "month5        -2.158e+03  1.687e+03  -1.280 0.204608    \n",
       "month6        -4.129e+03  1.746e+03  -2.365 0.020665 *  \n",
       "month7        -6.261e+03  1.714e+03  -3.652 0.000483 ***\n",
       "month8        -4.708e+03  1.833e+03  -2.568 0.012248 *  \n",
       "month9        -4.490e+02  1.788e+03  -0.251 0.802391    \n",
       "month10       -4.110e+02  1.747e+03  -0.235 0.814590    \n",
       "month11       -8.937e+02  1.760e+03  -0.508 0.613133    \n",
       "month12       -4.997e+03  1.763e+03  -2.834 0.005922 ** \n",
       "---\n",
       "Signif. codes:  0 ‘***’ 0.001 ‘**’ 0.01 ‘*’ 0.05 ‘.’ 0.1 ‘ ’ 1\n",
       "\n",
       "Residual standard error: 3224 on 74 degrees of freedom\n",
       "Multiple R-squared:  0.917,\tAdjusted R-squared:  0.9024 \n",
       "F-statistic:  62.9 on 13 and 74 DF,  p-value: < 2.2e-16\n"
      ]
     },
     "metadata": {},
     "output_type": "display_data"
    }
   ],
   "source": [
    "data = read.csv(\"~/datasets/momentum/pageview_new_accounts_8-7-22.csv\")\n",
    "\n",
    "data$month <- factor(data$month)\n",
    "\n",
    "model = lm(\n",
    "    formula = num_new_accounts ~ num_pageviews + wiki_age + month,\n",
    "    data = data\n",
    ")\n",
    "\n",
    "summary(model)"
   ]
  },
  {
   "cell_type": "code",
   "execution_count": 20,
   "id": "31960e74-3317-44cd-b4a3-5f612817bc5e",
   "metadata": {},
   "outputs": [
    {
     "data": {
      "text/plain": [
       "\n",
       "Call:\n",
       "lm(formula = num_bytes_added ~ num_active_editors + wiki_age + \n",
       "    month, data = data)\n",
       "\n",
       "Residuals:\n",
       "       Min         1Q     Median         3Q        Max \n",
       "-978570640 -294545630  -40596577  240840517 2310947121 \n",
       "\n",
       "Coefficients:\n",
       "                     Estimate Std. Error t value Pr(>|t|)    \n",
       "(Intercept)         3.017e+08  1.241e+08   2.431   0.0158 *  \n",
       "num_active_editors  2.353e+04  7.175e+02  32.797   <2e-16 ***\n",
       "wiki_age           -1.082e+07  5.056e+05 -21.406   <2e-16 ***\n",
       "month2              1.245e+07  1.508e+08   0.083   0.9343    \n",
       "month3              1.022e+07  1.508e+08   0.068   0.9460    \n",
       "month4              6.773e+07  1.508e+08   0.449   0.6537    \n",
       "month5              1.525e+08  1.508e+08   1.011   0.3130    \n",
       "month6              2.144e+08  1.509e+08   1.420   0.1568    \n",
       "month7              1.123e+08  1.509e+08   0.744   0.4573    \n",
       "month8              1.918e+08  1.510e+08   1.270   0.2052    \n",
       "month9              5.266e+07  1.526e+08   0.345   0.7303    \n",
       "month10            -5.616e+06  1.526e+08  -0.037   0.9707    \n",
       "month11             2.717e+07  1.526e+08   0.178   0.8588    \n",
       "month12             8.517e+07  1.526e+08   0.558   0.5774    \n",
       "---\n",
       "Signif. codes:  0 ‘***’ 0.001 ‘**’ 0.01 ‘*’ 0.05 ‘.’ 0.1 ‘ ’ 1\n",
       "\n",
       "Residual standard error: 500100000 on 246 degrees of freedom\n",
       "Multiple R-squared:  0.8158,\tAdjusted R-squared:  0.806 \n",
       "F-statistic: 83.78 on 13 and 246 DF,  p-value: < 2.2e-16\n"
      ]
     },
     "metadata": {},
     "output_type": "display_data"
    }
   ],
   "source": [
    "data = read.csv(\"~/datasets/momentum/active_editors_content_added_8-7-22.csv\")\n",
    "\n",
    "data$month <- factor(data$month)\n",
    "\n",
    "model = lm(\n",
    "    formula = num_bytes_added ~ num_active_editors + wiki_age + month,\n",
    "    data = data\n",
    ")\n",
    "\n",
    "summary(model)"
   ]
  },
  {
   "cell_type": "code",
   "execution_count": null,
   "id": "fd6828e2-15e6-4845-a574-149f504045de",
   "metadata": {},
   "outputs": [],
   "source": []
  }
 ],
 "metadata": {
  "kernelspec": {
   "display_name": "R",
   "language": "R",
   "name": "ir"
  },
  "language_info": {
   "codemirror_mode": "r",
   "file_extension": ".r",
   "mimetype": "text/x-r-source",
   "name": "R",
   "pygments_lexer": "r",
   "version": "4.2.0"
  }
 },
 "nbformat": 4,
 "nbformat_minor": 5
}
