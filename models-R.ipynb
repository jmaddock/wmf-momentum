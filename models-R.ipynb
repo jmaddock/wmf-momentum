{
 "cells": [
  {
   "cell_type": "code",
   "execution_count": 14,
   "id": "e68e9fe4-b07c-44ad-a7a7-d683339a5415",
   "metadata": {},
   "outputs": [
    {
     "data": {
      "text/plain": [
       "\n",
       "Call:\n",
       "lm(formula = num_new_accounts ~ num_pageviews + wiki_age + month, \n",
       "    data = data)\n",
       "\n",
       "Residuals:\n",
       "    Min      1Q  Median      3Q     Max \n",
       "-8092.0 -2336.7   -82.7  2709.9  8319.0 \n",
       "\n",
       "Coefficients:\n",
       "                Estimate Std. Error t value Pr(>|t|)    \n",
       "(Intercept)    1.582e+04  4.586e+03   3.450 0.000878 ***\n",
       "num_pageviews  9.441e-06  6.742e-07  14.004  < 2e-16 ***\n",
       "wiki_age      -2.643e+02  1.638e+01 -16.132  < 2e-16 ***\n",
       "month         -3.874e+02  1.255e+02  -3.087 0.002740 ** \n",
       "---\n",
       "Signif. codes:  0 ‘***’ 0.001 ‘**’ 0.01 ‘*’ 0.05 ‘.’ 0.1 ‘ ’ 1\n",
       "\n",
       "Residual standard error: 3885 on 84 degrees of freedom\n",
       "Multiple R-squared:  0.8633,\tAdjusted R-squared:  0.8584 \n",
       "F-statistic: 176.8 on 3 and 84 DF,  p-value: < 2.2e-16\n"
      ]
     },
     "metadata": {},
     "output_type": "display_data"
    }
   ],
   "source": [
    "data = read.csv(\"~/datasets/momentum/pageview_new_accounts_8-7-22.csv\")\n",
    "\n",
    "model = lm(\n",
    "    formula = num_new_accounts ~ num_pageviews + wiki_age + month,\n",
    "    data = data\n",
    ")\n",
    "\n",
    "summary(model)"
   ]
  },
  {
   "cell_type": "code",
   "execution_count": 16,
   "id": "31960e74-3317-44cd-b4a3-5f612817bc5e",
   "metadata": {},
   "outputs": [
    {
     "data": {
      "text/plain": [
       "\n",
       "Call:\n",
       "lm(formula = num_bytes_added ~ num_active_editors + wiki_age + \n",
       "    month, data = data)\n",
       "\n",
       "Residuals:\n",
       "       Min         1Q     Median         3Q        Max \n",
       "-932098662 -309837362  -29197529  228146536 2403122695 \n",
       "\n",
       "Coefficients:\n",
       "                     Estimate Std. Error t value Pr(>|t|)    \n",
       "(Intercept)         3.597e+08  9.079e+07   3.962 9.63e-05 ***\n",
       "num_active_editors  2.343e+04  7.088e+02  33.060  < 2e-16 ***\n",
       "wiki_age           -1.077e+07  5.002e+05 -21.523  < 2e-16 ***\n",
       "month               3.333e+06  8.944e+06   0.373     0.71    \n",
       "---\n",
       "Signif. codes:  0 ‘***’ 0.001 ‘**’ 0.01 ‘*’ 0.05 ‘.’ 0.1 ‘ ’ 1\n",
       "\n",
       "Residual standard error: 495600000 on 256 degrees of freedom\n",
       "Multiple R-squared:  0.8117,\tAdjusted R-squared:  0.8095 \n",
       "F-statistic: 367.9 on 3 and 256 DF,  p-value: < 2.2e-16\n"
      ]
     },
     "metadata": {},
     "output_type": "display_data"
    }
   ],
   "source": [
    "data = read.csv(\"~/datasets/momentum/active_editors_content_added_8-7-22.csv\")\n",
    "\n",
    "model = lm(\n",
    "    formula = num_bytes_added ~ num_active_editors + wiki_age + month,\n",
    "    data = data\n",
    ")\n",
    "\n",
    "summary(model)"
   ]
  },
  {
   "cell_type": "code",
   "execution_count": null,
   "id": "fd6828e2-15e6-4845-a574-149f504045de",
   "metadata": {},
   "outputs": [],
   "source": []
  }
 ],
 "metadata": {
  "kernelspec": {
   "display_name": "R",
   "language": "R",
   "name": "ir"
  },
  "language_info": {
   "codemirror_mode": "r",
   "file_extension": ".r",
   "mimetype": "text/x-r-source",
   "name": "R",
   "pygments_lexer": "r",
   "version": "4.2.0"
  }
 },
 "nbformat": 4,
 "nbformat_minor": 5
}
